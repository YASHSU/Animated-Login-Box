{
  "cells": [
    {
      "cell_type": "markdown",
      "metadata": {
        "id": "view-in-github",
        "colab_type": "text"
      },
      "source": [
        "<a href=\"https://colab.research.google.com/github/YASHSU/Animated-Login-Box/blob/main/FireDucksActivity_withFireDucks.ipynb\" target=\"_parent\"><img src=\"https://colab.research.google.com/assets/colab-badge.svg\" alt=\"Open In Colab\"/></a>"
      ]
    },
    {
      "cell_type": "code",
      "execution_count": 2,
      "metadata": {
        "id": "BKdGiiZ2EN-o",
        "colab": {
          "base_uri": "https://localhost:8080/"
        },
        "outputId": "543750d4-fcf8-4d25-da99-49d54c94d74f"
      },
      "outputs": [
        {
          "output_type": "stream",
          "name": "stdout",
          "text": [
            "Requirement already satisfied: fireducks in /usr/local/lib/python3.11/dist-packages (1.2.7)\n",
            "Requirement already satisfied: firefw==1.2.7 in /usr/local/lib/python3.11/dist-packages (from fireducks) (1.2.7)\n",
            "Requirement already satisfied: pandas<2.3.0,>=1.5.3 in /usr/local/lib/python3.11/dist-packages (from fireducks) (2.2.2)\n",
            "Requirement already satisfied: pyarrow<19.1,>=19.0 in /usr/local/lib/python3.11/dist-packages (from fireducks) (19.0.1)\n",
            "Requirement already satisfied: numpy>=1.23.2 in /usr/local/lib/python3.11/dist-packages (from pandas<2.3.0,>=1.5.3->fireducks) (2.0.2)\n",
            "Requirement already satisfied: python-dateutil>=2.8.2 in /usr/local/lib/python3.11/dist-packages (from pandas<2.3.0,>=1.5.3->fireducks) (2.8.2)\n",
            "Requirement already satisfied: pytz>=2020.1 in /usr/local/lib/python3.11/dist-packages (from pandas<2.3.0,>=1.5.3->fireducks) (2025.2)\n",
            "Requirement already satisfied: tzdata>=2022.7 in /usr/local/lib/python3.11/dist-packages (from pandas<2.3.0,>=1.5.3->fireducks) (2025.2)\n",
            "Requirement already satisfied: six>=1.5 in /usr/local/lib/python3.11/dist-packages (from python-dateutil>=2.8.2->pandas<2.3.0,>=1.5.3->fireducks) (1.17.0)\n"
          ]
        }
      ],
      "source": [
        "!pip install fireducks"
      ]
    },
    {
      "cell_type": "code",
      "execution_count": 3,
      "metadata": {
        "id": "O2KIjJetEKrp"
      },
      "outputs": [],
      "source": [
        "import time\n",
        "import fireducks.pandas as pd"
      ]
    },
    {
      "cell_type": "code",
      "execution_count": 4,
      "metadata": {
        "colab": {
          "base_uri": "https://localhost:8080/"
        },
        "id": "T4mjOF3mFC7b",
        "outputId": "6a8df6d1-6749-45f4-cd03-acb9c3a67e3d"
      },
      "outputs": [
        {
          "output_type": "stream",
          "name": "stdout",
          "text": [
            "evaluation with fireducks.pandas\n"
          ]
        }
      ],
      "source": [
        "print(f\"evaluation with {pd.__name__}\")"
      ]
    },
    {
      "cell_type": "markdown",
      "metadata": {
        "id": "gNIYWM0xEbMR"
      },
      "source": [
        "## Let's load the parquet dataset"
      ]
    },
    {
      "cell_type": "code",
      "execution_count": 5,
      "metadata": {
        "id": "6nzYlYVVENGK"
      },
      "outputs": [],
      "source": [
        "# Data can be downloaded from here:\n",
        "!wget -q https://data.rapids.ai/datasets/nyc_parking/nyc_parking_violations_2022.parquet"
      ]
    },
    {
      "cell_type": "code",
      "execution_count": 6,
      "metadata": {
        "id": "h4k9C0to0gUw"
      },
      "outputs": [],
      "source": [
        "import time\n",
        "stime = time.time()"
      ]
    },
    {
      "cell_type": "code",
      "execution_count": 7,
      "metadata": {
        "id": "Y_d5fwWPES1g",
        "colab": {
          "base_uri": "https://localhost:8080/"
        },
        "outputId": "a56cd803-c797-4e7a-df1c-b0f3d705b6ec"
      },
      "outputs": [
        {
          "output_type": "stream",
          "name": "stdout",
          "text": [
            "CPU times: user 20.8 s, sys: 4.38 s, total: 25.2 s\n",
            "Wall time: 16.3 s\n"
          ]
        },
        {
          "output_type": "execute_result",
          "data": {
            "text/plain": [
              "(15435607, 43)"
            ]
          },
          "metadata": {},
          "execution_count": 7
        }
      ],
      "source": [
        "%%time\n",
        "df = pd.read_parquet(\"nyc_parking_violations_2022.parquet\")\n",
        "df.shape"
      ]
    },
    {
      "cell_type": "code",
      "execution_count": 8,
      "metadata": {
        "id": "J2-hbJ3f0gUw",
        "colab": {
          "base_uri": "https://localhost:8080/"
        },
        "outputId": "cb35c958-780d-45a4-ddc0-34ea0d7ee536"
      },
      "outputs": [
        {
          "output_type": "execute_result",
          "data": {
            "text/plain": [
              "Violation Time\n",
              "0836A    32927\n",
              "0839A    30635\n",
              "0838A    30539\n",
              "0840A    30448\n",
              "0806A    30236\n",
              "         ...  \n",
              "2853P        1\n",
              "7643P        1\n",
              "5850P        1\n",
              "0815         1\n",
              "5418P        1\n",
              "Name: count, Length: 1659, dtype: int64"
            ]
          },
          "metadata": {},
          "execution_count": 8
        }
      ],
      "source": [
        "df['Violation Time'].value_counts()"
      ]
    },
    {
      "cell_type": "markdown",
      "metadata": {
        "id": "cQn2K8Kk0gUx"
      },
      "source": [
        "### 👉 As you can see there are some invalid entries (1247, 3857P etc.) in the \"Violation Time\" column, let's try to find the answer to the following queries in pandas!!"
      ]
    },
    {
      "cell_type": "markdown",
      "metadata": {
        "id": "UvS7Oit00gUx"
      },
      "source": [
        "## Q1. How many entries for 'Violation Time' starts with four digits and ends with either A or P?"
      ]
    },
    {
      "cell_type": "code",
      "source": [
        "# prompt: How many entries for 'Violation Time' starts with four digits and ends with either A or P?\n",
        "\n",
        "import re\n",
        "\n",
        "def count_valid_violation_times(df):\n",
        "  pattern = r\"^\\d{4}[AP]$\"\n",
        "  # Matches four digits followed by A or P\n",
        "  count = 0\n",
        "  for violation_time in df['Violation Time']:\n",
        "    if isinstance(violation_time, str) and re.match(pattern, violation_time):\n",
        "        count += 1\n",
        "  return count\n",
        "\n",
        "valid_entries = count_valid_violation_times(df)\n",
        "print(f\"Number of entries matching the pattern: {valid_entries}\")\n"
      ],
      "metadata": {
        "id": "Qxu7c17iPyoE",
        "outputId": "a55bf0a9-3c57-4b33-99ad-7f264772426e",
        "colab": {
          "base_uri": "https://localhost:8080/"
        }
      },
      "execution_count": 9,
      "outputs": [
        {
          "output_type": "stream",
          "name": "stdout",
          "text": [
            "Number of entries matching the pattern: 15435353\n"
          ]
        }
      ]
    },
    {
      "cell_type": "code",
      "execution_count": null,
      "metadata": {
        "id": "0EjBdG1Z0gUx"
      },
      "outputs": [],
      "source": [
        "# Write your query here. Extra credit for optimized query.\n"
      ]
    },
    {
      "cell_type": "markdown",
      "metadata": {
        "id": "Np6CCm_K0gUx"
      },
      "source": [
        "## Q2. How many violation entries takes place during AM time? (Hint: time ends with \"A\" indicates AM time)"
      ]
    },
    {
      "cell_type": "code",
      "source": [
        "# prompt: How many violation entries takes place during AM time? (Hint: time ends with \"A\" indicates AM time)\n",
        "\n",
        "import time\n",
        "import fireducks.pandas as pd\n",
        "import re\n",
        "\n",
        "# Load the DataFrame (assuming it's already loaded as 'df')\n",
        "# If not, uncomment the line below:\n",
        "# df = pd.read_parquet(\"nyc_parking_violations_2022.parquet\")\n",
        "\n",
        "def count_am_violations(df):\n",
        "    am_count = 0\n",
        "    for violation_time in df['Violation Time']:\n",
        "        if isinstance(violation_time, str) and violation_time.endswith('A'):\n",
        "            am_count += 1\n",
        "    return am_count\n",
        "\n",
        "am_violations = count_am_violations(df)\n",
        "print(f\"Number of violations during AM time: {am_violations}\")\n"
      ],
      "metadata": {
        "id": "G3QpasBdR5Ov",
        "outputId": "365f5c7d-4419-4faf-d873-801b11d557a1",
        "colab": {
          "base_uri": "https://localhost:8080/"
        }
      },
      "execution_count": 10,
      "outputs": [
        {
          "output_type": "stream",
          "name": "stdout",
          "text": [
            "Number of violations during AM time: 7433999\n"
          ]
        }
      ]
    },
    {
      "cell_type": "code",
      "execution_count": null,
      "metadata": {
        "id": "duEpC9ni0gUx"
      },
      "outputs": [],
      "source": [
        "# Write your query here. Extra credit for optimized query.\n"
      ]
    },
    {
      "cell_type": "markdown",
      "metadata": {
        "id": "EGynqZIX0gUx"
      },
      "source": [
        "## Q3. How many invalid AM entries are there? E.g., 1365A is invalid. (Note both 00:00 AM and 12:00 AM represent midnight)"
      ]
    },
    {
      "cell_type": "code",
      "source": [
        "# prompt: How many invalid AM entries are there? E.g., 1365A is invalid. (Note both 00:00 AM and 12:00 AM represent midnight)\n",
        "\n",
        "def count_invalid_am_entries(df):\n",
        "    invalid_am_count = 0\n",
        "    for violation_time in df['Violation Time']:\n",
        "        if isinstance(violation_time, str) and violation_time.endswith('A'):\n",
        "            try:\n",
        "                # Attempt to convert the time string to an integer\n",
        "                time_int = int(violation_time[:-1])  # Remove the 'A'\n",
        "                if not (0 <= time_int <= 1200):  # Check if it's a valid 24-hour format\n",
        "                    invalid_am_count += 1\n",
        "            except ValueError:\n",
        "                invalid_am_count += 1  # Count it as invalid if not an integer\n",
        "\n",
        "    return invalid_am_count\n",
        "\n",
        "invalid_am_entries = count_invalid_am_entries(df)\n",
        "print(f\"Number of invalid AM entries: {invalid_am_entries}\")\n"
      ],
      "metadata": {
        "id": "IiTdy1j5SWIP",
        "outputId": "fc6ac07c-7cc6-4f26-bfe9-c69ca39e0026",
        "colab": {
          "base_uri": "https://localhost:8080/"
        }
      },
      "execution_count": 11,
      "outputs": [
        {
          "output_type": "stream",
          "name": "stdout",
          "text": [
            "Number of invalid AM entries: 27642\n"
          ]
        }
      ]
    },
    {
      "cell_type": "code",
      "execution_count": null,
      "metadata": {
        "id": "EVou86Xt0gUx"
      },
      "outputs": [],
      "source": [
        "# Write your query here. Extra credit for optimized query.\n"
      ]
    },
    {
      "cell_type": "markdown",
      "metadata": {
        "id": "7HeRUjKm0gUx"
      },
      "source": [
        "## Q4. How many violation entries takes place during PM time? (Hint: time ends with \"P\" indicates PM time)"
      ]
    },
    {
      "cell_type": "code",
      "source": [
        "# prompt: How many violation entries takes place during PM time? (Hint: time ends with \"P\" indicates PM time)\n",
        "\n",
        "def count_pm_violations(df):\n",
        "    pm_count = 0\n",
        "    for violation_time in df['Violation Time']:\n",
        "        if isinstance(violation_time, str) and violation_time.endswith('P'):\n",
        "            pm_count += 1\n",
        "    return pm_count\n",
        "\n",
        "pm_violations = count_pm_violations(df)\n",
        "print(f\"Number of violations during PM time: {pm_violations}\")\n"
      ],
      "metadata": {
        "id": "0ac-3gpvSd5X",
        "outputId": "90696c14-1cd2-43bd-b925-cf568c35d824",
        "colab": {
          "base_uri": "https://localhost:8080/"
        }
      },
      "execution_count": 12,
      "outputs": [
        {
          "output_type": "stream",
          "name": "stdout",
          "text": [
            "Number of violations during PM time: 8001364\n"
          ]
        }
      ]
    },
    {
      "cell_type": "code",
      "execution_count": null,
      "metadata": {
        "id": "STLLQDQ40gUy"
      },
      "outputs": [],
      "source": [
        "# Write your query here. Extra credit for optimized query.\n"
      ]
    },
    {
      "cell_type": "markdown",
      "metadata": {
        "id": "YalXfXYf0gUy"
      },
      "source": [
        "## Q5. How many invalid PM entries are there? E.g., 2565P is invalid. (Note 00:00 PM is also not a valid time)"
      ]
    },
    {
      "cell_type": "code",
      "source": [
        "# prompt: How many invalid PM entries are there? E.g., 2565P is invalid. (Note 00:00 PM is also not a valid time)\n",
        "\n",
        "def count_invalid_pm_entries(df):\n",
        "    invalid_pm_count = 0\n",
        "    for violation_time in df['Violation Time']:\n",
        "        if isinstance(violation_time, str) and violation_time.endswith('P'):\n",
        "            try:\n",
        "                time_int = int(violation_time[:-1])\n",
        "                if not (1 <= time_int <= 1200):\n",
        "                    invalid_pm_count += 1\n",
        "            except ValueError:\n",
        "                invalid_pm_count += 1\n",
        "    return invalid_pm_count\n",
        "\n",
        "invalid_pm_entries = count_invalid_pm_entries(df)\n",
        "print(f\"Number of invalid PM entries: {invalid_pm_entries}\")\n"
      ],
      "metadata": {
        "id": "RGTlOHQFSpbm",
        "outputId": "a78f037d-610d-4e53-f134-a1d3578dcace",
        "colab": {
          "base_uri": "https://localhost:8080/"
        }
      },
      "execution_count": 13,
      "outputs": [
        {
          "output_type": "stream",
          "name": "stdout",
          "text": [
            "Number of invalid PM entries: 1295642\n"
          ]
        }
      ]
    },
    {
      "cell_type": "code",
      "execution_count": null,
      "metadata": {
        "id": "x7ZkYu-f0gUy"
      },
      "outputs": [],
      "source": [
        "# Write your query here. Extra credit for optimized query.\n"
      ]
    },
    {
      "cell_type": "code",
      "execution_count": 14,
      "metadata": {
        "id": "dkCFz7NF0gUy",
        "colab": {
          "base_uri": "https://localhost:8080/"
        },
        "outputId": "6ea38a28-ad96-4c49-cad7-9b320b9a1d07"
      },
      "outputs": [
        {
          "output_type": "stream",
          "name": "stdout",
          "text": [
            "[fireducks.pandas total time: 183.2500650882721 sec\n"
          ]
        }
      ],
      "source": [
        "etime = time.time()\n",
        "print(f\"[{pd.__name__} total time: {etime - stime} sec\")"
      ]
    },
    {
      "cell_type": "markdown",
      "metadata": {
        "id": "oUsvYYYQ0gUy"
      },
      "source": [
        "### 👉 Now install FireDucks, enable the `%load_ext` line-magic and re-execute your queries."
      ]
    }
  ],
  "metadata": {
    "colab": {
      "provenance": [],
      "include_colab_link": true
    },
    "kernelspec": {
      "display_name": "Python 3 (ipykernel)",
      "language": "python",
      "name": "python3"
    },
    "language_info": {
      "codemirror_mode": {
        "name": "ipython",
        "version": 3
      },
      "file_extension": ".py",
      "mimetype": "text/x-python",
      "name": "python",
      "nbconvert_exporter": "python",
      "pygments_lexer": "ipython3",
      "version": "3.10.12"
    }
  },
  "nbformat": 4,
  "nbformat_minor": 0
}